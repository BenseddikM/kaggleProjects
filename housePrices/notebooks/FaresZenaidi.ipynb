{
 "cells": [
  {
   "cell_type": "markdown",
   "metadata": {},
   "source": [
    "## House Pricing "
   ]
  },
  {
   "cell_type": "code",
   "execution_count": 107,
   "metadata": {
    "collapsed": true
   },
   "outputs": [],
   "source": [
    "# Necessary packages import\n",
    "%matplotlib inline\n",
    "from pandas import DataFrame, Series\n",
    "import pandas as pd\n",
    "import numpy as np\n",
    "import re\n",
    "import matplotlib.pyplot as plt\n",
    "from matplotlib.collections import LineCollection\n",
    "from matplotlib import cm\n",
    "import seaborn as sns\n",
    "from pandas.tools.plotting import radviz, scatter_matrix"
   ]
  },
  {
   "cell_type": "code",
   "execution_count": 147,
   "metadata": {
    "collapsed": true
   },
   "outputs": [],
   "source": [
    "# Data loading \n",
    "df = pd.read_csv('train.csv', sep=',', encoding='utf-8', index_col= \"Id\")"
   ]
  },
  {
   "cell_type": "code",
   "execution_count": 148,
   "metadata": {
    "collapsed": false
   },
   "outputs": [
    {
     "name": "stdout",
     "output_type": "stream",
     "text": [
      "Shape of the dataframe: (1460, 80)\n"
     ]
    }
   ],
   "source": [
    "# Shape of the data (before transformation)\n",
    "print(\"Shape of the dataframe: {}\".format(df.shape))"
   ]
  },
  {
   "cell_type": "code",
   "execution_count": 151,
   "metadata": {
    "collapsed": false
   },
   "outputs": [
    {
     "name": "stdout",
     "output_type": "stream",
     "text": [
      "MSSubClass          0\n",
      "MSZoning            0\n",
      "LotFrontage       259\n",
      "LotArea             0\n",
      "Street              0\n",
      "Alley            1369\n",
      "LotShape            0\n",
      "LandContour         0\n",
      "Utilities           0\n",
      "LotConfig           0\n",
      "LandSlope           0\n",
      "Neighborhood        0\n",
      "Condition1          0\n",
      "Condition2          0\n",
      "BldgType            0\n",
      "HouseStyle          0\n",
      "OverallQual         0\n",
      "OverallCond         0\n",
      "YearBuilt           0\n",
      "YearRemodAdd        0\n",
      "RoofStyle           0\n",
      "RoofMatl            0\n",
      "Exterior1st         0\n",
      "Exterior2nd         0\n",
      "MasVnrType          8\n",
      "MasVnrArea          8\n",
      "ExterQual           0\n",
      "ExterCond           0\n",
      "Foundation          0\n",
      "BsmtQual           37\n",
      "                 ... \n",
      "BedroomAbvGr        0\n",
      "KitchenAbvGr        0\n",
      "KitchenQual         0\n",
      "TotRmsAbvGrd        0\n",
      "Functional          0\n",
      "Fireplaces          0\n",
      "FireplaceQu       690\n",
      "GarageType         81\n",
      "GarageYrBlt        81\n",
      "GarageFinish       81\n",
      "GarageCars          0\n",
      "GarageArea          0\n",
      "GarageQual         81\n",
      "GarageCond         81\n",
      "PavedDrive          0\n",
      "WoodDeckSF          0\n",
      "OpenPorchSF         0\n",
      "EnclosedPorch       0\n",
      "3SsnPorch           0\n",
      "ScreenPorch         0\n",
      "PoolArea            0\n",
      "PoolQC           1453\n",
      "Fence            1179\n",
      "MiscFeature      1406\n",
      "MiscVal             0\n",
      "MoSold              0\n",
      "YrSold              0\n",
      "SaleType            0\n",
      "SaleCondition       0\n",
      "SalePrice           0\n",
      "dtype: int64\n"
     ]
    }
   ],
   "source": [
    "# Print the first 5 lines of the dataframe\n",
    "df.head(5)"
   ]
  },
  {
   "cell_type": "code",
   "execution_count": 111,
   "metadata": {
    "collapsed": false
   },
   "outputs": [
    {
     "name": "stdout",
     "output_type": "stream",
     "text": [
      "Numerical column names: \n",
      " ['MSSubClass', 'LotFrontage', 'LotArea', 'OverallQual', 'OverallCond', 'YearBuilt', 'YearRemodAdd', 'MasVnrArea', 'BsmtFinSF1', 'BsmtFinSF2', 'BsmtUnfSF', 'TotalBsmtSF', '1stFlrSF', '2ndFlrSF', 'LowQualFinSF', 'GrLivArea', 'BsmtFullBath', 'BsmtHalfBath', 'FullBath', 'HalfBath', 'BedroomAbvGr', 'KitchenAbvGr', 'TotRmsAbvGrd', 'Fireplaces', 'GarageYrBlt', 'GarageCars', 'GarageArea', 'WoodDeckSF', 'OpenPorchSF', 'EnclosedPorch', '3SsnPorch', 'ScreenPorch', 'PoolArea', 'MiscVal', 'MoSold', 'YrSold', 'SalePrice'] \n",
      "\n",
      "Categorical column names: \n",
      " ['Alley', 'BldgType', 'BsmtCond', 'BsmtExposure', 'BsmtFinType1', 'BsmtFinType2', 'BsmtQual', 'CentralAir', 'Condition1', 'Condition2', 'Electrical', 'ExterCond', 'ExterQual', 'Exterior1st', 'Exterior2nd', 'Fence', 'FireplaceQu', 'Foundation', 'Functional', 'GarageCond', 'GarageFinish', 'GarageQual', 'GarageType', 'Heating', 'HeatingQC', 'HouseStyle', 'KitchenQual', 'LandContour', 'LandSlope', 'LotConfig', 'LotShape', 'MSZoning', 'MasVnrType', 'MiscFeature', 'Neighborhood', 'PavedDrive', 'PoolQC', 'RoofMatl', 'RoofStyle', 'SaleCondition', 'SaleType', 'Street', 'Utilities'] \n",
      "\n"
     ]
    }
   ],
   "source": [
    "# Numerical vs categorical variables\n",
    "num_cols = [c for c in df.columns if df.dtypes[c] in ['int64', 'float64']]\n",
    "label_cols = df.columns.difference(num_cols).tolist()\n",
    "\n",
    "print(\"Numerical column names: \\n {} \\n\".format(num_cols))\n",
    "print(\"Categorical column names: \\n {} \\n\".format(label_cols))"
   ]
  },
  {
   "cell_type": "code",
   "execution_count": 145,
   "metadata": {
    "collapsed": false
   },
   "outputs": [
    {
     "name": "stdout",
     "output_type": "stream",
     "text": [
      "Index(['MSSubClass', 'LotFrontage', 'LotArea', 'OverallQual', 'OverallCond',\n",
      "       'YearBuilt', 'YearRemodAdd', 'MasVnrArea', 'BsmtFinSF1', 'BsmtFinSF2',\n",
      "       ...\n",
      "       'SaleType_ConLD', 'SaleType_ConLI', 'SaleType_ConLw', 'SaleType_New',\n",
      "       'SaleType_Oth', 'SaleType_WD', 'Street_Grvl', 'Street_Pave',\n",
      "       'Utilities_AllPub', 'Utilities_NoSeWa'],\n",
      "      dtype='object', length=289)\n"
     ]
    }
   ],
   "source": [
    "dfDummies = pd.get_dummies(df[label_cols])\n",
    "res_df = pd.concat([df[num_cols], dfDummies], axis=1)"
   ]
  },
  {
   "cell_type": "code",
   "execution_count": 124,
   "metadata": {
    "collapsed": false
   },
   "outputs": [],
   "source": [
    "# X matrix\n",
    "X = res_df[res_df.columns.difference([\"SalePrice\"])]\n",
    "# y matrix\n",
    "y = res_df.filter(regex=\"SalePrice\")"
   ]
  },
  {
   "cell_type": "code",
   "execution_count": 175,
   "metadata": {
    "collapsed": false,
    "scrolled": true
   },
   "outputs": [
    {
     "data": {
      "text/plain": [
       "LotFrontage             259\n",
       "GarageYrBlt              81\n",
       "MasVnrArea                8\n",
       "YrSold                    0\n",
       "Exterior2nd_ImStucc       0\n",
       "Exterior2nd_Brk Cmn       0\n",
       "Exterior2nd_BrkFace       0\n",
       "Exterior2nd_CBlock        0\n",
       "Exterior2nd_CmentBd       0\n",
       "Exterior2nd_HdBoard       0\n",
       "Exterior2nd_MetalSd       0\n",
       "Exterior2nd_AsbShng       0\n",
       "Exterior2nd_Other         0\n",
       "Exterior2nd_Plywood       0\n",
       "Exterior2nd_Stone         0\n",
       "Exterior2nd_Stucco        0\n",
       "Exterior2nd_VinylSd       0\n",
       "Exterior2nd_Wd Sdng       0\n",
       "Exterior2nd_AsphShn       0\n",
       "Exterior1st_WdShing       0\n",
       "Fence_GdPrv               0\n",
       "Exterior1st_Wd Sdng       0\n",
       "Exterior1st_VinylSd       0\n",
       "Exterior1st_Stucco        0\n",
       "Exterior1st_Stone         0\n",
       "Exterior1st_Plywood       0\n",
       "Exterior1st_MetalSd       0\n",
       "Exterior1st_ImStucc       0\n",
       "Exterior1st_HdBoard       0\n",
       "Exterior1st_CemntBd       0\n",
       "                       ... \n",
       "MSZoning_RM               0\n",
       "MasVnrType_BrkCmn         0\n",
       "MasVnrType_BrkFace        0\n",
       "MasVnrType_None           0\n",
       "MiscFeature_Gar2          0\n",
       "LandContour_Lvl           0\n",
       "MiscFeature_Othr          0\n",
       "MiscFeature_Shed          0\n",
       "MiscFeature_TenC          0\n",
       "MiscVal                   0\n",
       "MoSold                    0\n",
       "Neighborhood_Blmngtn      0\n",
       "MSZoning_FV               0\n",
       "MSZoning_C (all)          0\n",
       "MSSubClass                0\n",
       "LowQualFinSF              0\n",
       "LotShape_Reg              0\n",
       "LotShape_IR3              0\n",
       "LotShape_IR2              0\n",
       "LotShape_IR1              0\n",
       "LotConfig_Inside          0\n",
       "LotConfig_FR3             0\n",
       "LotConfig_FR2             0\n",
       "LotConfig_CulDSac         0\n",
       "LotConfig_Corner          0\n",
       "LotArea                   0\n",
       "LandSlope_Sev             0\n",
       "LandSlope_Mod             0\n",
       "LandSlope_Gtl             0\n",
       "1stFlrSF                  0\n",
       "dtype: int64"
      ]
     },
     "execution_count": 175,
     "metadata": {},
     "output_type": "execute_result"
    }
   ],
   "source": [
    "X.isnull().sum().sort_values(ascending=False)\n",
    "# [c for c in X.columns if X[c].isnull().sum() > 0]"
   ]
  },
  {
   "cell_type": "code",
   "execution_count": 169,
   "metadata": {
    "collapsed": false
   },
   "outputs": [
    {
     "name": "stdout",
     "output_type": "stream",
     "text": [
      "True\n"
     ]
    }
   ],
   "source": [
    "print('MasVnrArea' in num_cols)"
   ]
  }
 ],
 "metadata": {
  "anaconda-cloud": {},
  "kernelspec": {
   "display_name": "Python [conda root]",
   "language": "python",
   "name": "conda-root-py"
  },
  "language_info": {
   "codemirror_mode": {
    "name": "ipython",
    "version": 3
   },
   "file_extension": ".py",
   "mimetype": "text/x-python",
   "name": "python",
   "nbconvert_exporter": "python",
   "pygments_lexer": "ipython3",
   "version": "3.5.2"
  }
 },
 "nbformat": 4,
 "nbformat_minor": 1
}
